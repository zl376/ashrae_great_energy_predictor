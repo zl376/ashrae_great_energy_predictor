{
 "cells": [
  {
   "cell_type": "code",
   "execution_count": 1,
   "metadata": {},
   "outputs": [],
   "source": [
    "import pandas as pd\n",
    "import numpy as np\n",
    "import matplotlib.pyplot as plt\n",
    "import seaborn as sns\n",
    "import re\n",
    "import dill as pickle\n",
    "\n",
    "import warnings\n",
    "warnings.filterwarnings(\"ignore\")"
   ]
  },
  {
   "cell_type": "code",
   "execution_count": 2,
   "metadata": {},
   "outputs": [],
   "source": [
    "DATA_DIR = 'data/'\n",
    "MODEL_DIR = 'model/'\n",
    "OUTPUT_DIR = 'output/'"
   ]
  },
  {
   "cell_type": "code",
   "execution_count": 3,
   "metadata": {},
   "outputs": [
    {
     "name": "stdout",
     "output_type": "stream",
     "text": [
      "building_metadata.csv  test.csv   weather_test.csv\r\n",
      "sample_submission.csv  train.csv  weather_train.csv\r\n"
     ]
    }
   ],
   "source": [
    "!ls {DATA_DIR}"
   ]
  },
  {
   "cell_type": "markdown",
   "metadata": {},
   "source": [
    "# Load data "
   ]
  },
  {
   "cell_type": "code",
   "execution_count": 4,
   "metadata": {},
   "outputs": [],
   "source": [
    "building_metadata = pd.read_csv(DATA_DIR + 'building_metadata.csv')\n",
    "weather_test = pd.read_csv(DATA_DIR + 'weather_test.csv')\n",
    "test = pd.read_csv(DATA_DIR + 'test.csv')"
   ]
  },
  {
   "cell_type": "code",
   "execution_count": 5,
   "metadata": {},
   "outputs": [],
   "source": [
    "map_meter2desc = {0: 'electricity', 1: 'chilledwater', 2: 'steam', 3: 'hotwater'}"
   ]
  },
  {
   "cell_type": "code",
   "execution_count": 6,
   "metadata": {},
   "outputs": [],
   "source": [
    "numerical = [\n",
    "    'square_feet', \n",
    "    'year_built', \n",
    "    'floor_count', \n",
    "    'air_temperature', \n",
    "    'cloud_coverage', \n",
    "    'dew_temperature',\n",
    "    'precip_depth_1_hr',\n",
    "    'sea_level_pressure',\n",
    "    'wind_speed',\n",
    "]\n",
    "\n",
    "categorical = [\n",
    "    'primary_use',\n",
    "]"
   ]
  },
  {
   "cell_type": "markdown",
   "metadata": {},
   "source": [
    "# Combine table"
   ]
  },
  {
   "cell_type": "code",
   "execution_count": 7,
   "metadata": {},
   "outputs": [],
   "source": [
    "df = test\n",
    "df = df.merge(building_metadata, on='building_id')\n",
    "df = df.merge(weather_test, on=['site_id', 'timestamp'])\n",
    "df['timestamp'] = pd.to_datetime(df['timestamp'])"
   ]
  },
  {
   "cell_type": "markdown",
   "metadata": {},
   "source": [
    "# Inference for each METER"
   ]
  },
  {
   "cell_type": "code",
   "execution_count": 9,
   "metadata": {},
   "outputs": [
    {
     "name": "stdout",
     "output_type": "stream",
     "text": [
      "electricity\n",
      "[11:54:31] WARNING: /workspace/src/objective/regression_obj.cu:152: reg:linear is now deprecated in favor of reg:squarederror.\n",
      "chilledwater\n",
      "[11:58:52] WARNING: /workspace/src/objective/regression_obj.cu:152: reg:linear is now deprecated in favor of reg:squarederror.\n",
      "steam\n",
      "[11:59:44] WARNING: /workspace/src/objective/regression_obj.cu:152: reg:linear is now deprecated in favor of reg:squarederror.\n",
      "hotwater\n",
      "[12:00:19] WARNING: /workspace/src/objective/regression_obj.cu:152: reg:linear is now deprecated in favor of reg:squarederror.\n"
     ]
    }
   ],
   "source": [
    "result = pd.DataFrame()\n",
    "\n",
    "for meter in (0, 1, 2, 3):\n",
    "    print(map_meter2desc[meter])\n",
    "    \n",
    "    df_meter = df.query('meter == {}'.format(meter))\n",
    "    \n",
    "    # Load feature preprocessor\n",
    "    with open(MODEL_DIR + 'feature_preproc_meter{}.p'.format(meter), 'rb') as file:\n",
    "        feature_preproc = pickle.load(file)\n",
    "    feature_names = numerical \\\n",
    "        + [ re.sub(r\"^(?:x)([0-9])\", lambda m: categorical[int(m.group(1))], x) \\\n",
    "             for x in feature_preproc.steps[-1][-1].transformer_list[1][-1].steps[-1][-1].get_feature_names().tolist() ] \\\n",
    "        + ['precip_depth_1_hr_isnan'] \\\n",
    "        + ['wind_direction_sin', 'wind_direction_cos'] \\\n",
    "        + ['month_sin', 'month_cos']\n",
    "    \n",
    "    # Load regression model\n",
    "    with open(MODEL_DIR + 'model_xgboost_meter{}.p'.format(meter), 'rb') as file:\n",
    "        model = pickle.load(file)\n",
    "        \n",
    "    y_pred = model.predict(pd.DataFrame(feature_preproc.transform(df_meter), columns=feature_names))\n",
    "    result_meter = pd.DataFrame({'row_id': df_meter['row_id'], 'meter_reading': np.round(np.exp(y_pred) - 1, 4)})\n",
    "    \n",
    "    # Merge\n",
    "    result = result.append(result_meter)\n",
    "    \n",
    "result = test[['row_id']].merge(result, on='row_id', how='left')\n",
    "\n",
    "# Default value for missing rows\n",
    "result['meter_reading'] = result['meter_reading'].fillna(0.0)"
   ]
  },
  {
   "cell_type": "markdown",
   "metadata": {},
   "source": [
    "# Save data"
   ]
  },
  {
   "cell_type": "code",
   "execution_count": 10,
   "metadata": {},
   "outputs": [],
   "source": [
    "result.to_csv(OUTPUT_DIR + 'submit.csv', index=False)"
   ]
  },
  {
   "cell_type": "code",
   "execution_count": null,
   "metadata": {},
   "outputs": [],
   "source": []
  }
 ],
 "metadata": {
  "kernelspec": {
   "display_name": "Python 3",
   "language": "python",
   "name": "python3"
  },
  "language_info": {
   "codemirror_mode": {
    "name": "ipython",
    "version": 3
   },
   "file_extension": ".py",
   "mimetype": "text/x-python",
   "name": "python",
   "nbconvert_exporter": "python",
   "pygments_lexer": "ipython3",
   "version": "3.7.4"
  },
  "toc": {
   "base_numbering": 1,
   "nav_menu": {},
   "number_sections": true,
   "sideBar": true,
   "skip_h1_title": false,
   "title_cell": "Table of Contents",
   "title_sidebar": "Contents",
   "toc_cell": false,
   "toc_position": {},
   "toc_section_display": true,
   "toc_window_display": false
  }
 },
 "nbformat": 4,
 "nbformat_minor": 2
}
