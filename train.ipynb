{
 "cells": [
  {
   "cell_type": "code",
   "execution_count": 55,
   "metadata": {},
   "outputs": [],
   "source": [
    "import pandas as pd\n",
    "import numpy as np\n",
    "import matplotlib.pyplot as plt\n",
    "import seaborn as sns\n",
    "import re\n",
    "\n",
    "import warnings\n",
    "warnings.filterwarnings(\"ignore\")"
   ]
  },
  {
   "cell_type": "code",
   "execution_count": 56,
   "metadata": {},
   "outputs": [],
   "source": [
    "DATA_DIR = 'data/'\n",
    "SUBSAMPLE_FEATURE_PREPROC = 0.01\n",
    "SUBSAMPLE_TRAIN = 0.9\n",
    "METER = 3"
   ]
  },
  {
   "cell_type": "code",
   "execution_count": 57,
   "metadata": {},
   "outputs": [
    {
     "name": "stdout",
     "output_type": "stream",
     "text": [
      "building_metadata.csv  test.csv   weather_test.csv\r\n",
      "sample_submission.csv  train.csv  weather_train.csv\r\n"
     ]
    }
   ],
   "source": [
    "!ls {DATA_DIR}"
   ]
  },
  {
   "cell_type": "markdown",
   "metadata": {},
   "source": [
    "# Load data "
   ]
  },
  {
   "cell_type": "code",
   "execution_count": 58,
   "metadata": {},
   "outputs": [],
   "source": [
    "building_metadata = pd.read_csv(DATA_DIR + 'building_metadata.csv')\n",
    "weather_train = pd.read_csv(DATA_DIR + 'weather_train.csv')\n",
    "weather_test = pd.read_csv(DATA_DIR + 'weather_test.csv')\n",
    "train = pd.read_csv(DATA_DIR + 'train.csv')\n",
    "test = pd.read_csv(DATA_DIR + 'test.csv')"
   ]
  },
  {
   "cell_type": "code",
   "execution_count": 59,
   "metadata": {},
   "outputs": [],
   "source": [
    "map_meter2desc = {0: 'electricity', 1: 'chilledwater', 2: 'steam', 3: 'hotwater'}"
   ]
  },
  {
   "cell_type": "code",
   "execution_count": 60,
   "metadata": {},
   "outputs": [],
   "source": [
    "numerical = [\n",
    "    'square_feet', \n",
    "    'year_built', \n",
    "    'floor_count', \n",
    "    'air_temperature', \n",
    "    'cloud_coverage', \n",
    "    'dew_temperature',\n",
    "    'precip_depth_1_hr',\n",
    "    'sea_level_pressure',\n",
    "    'wind_speed',\n",
    "]\n",
    "\n",
    "categorical = [\n",
    "    'primary_use',\n",
    "]"
   ]
  },
  {
   "cell_type": "markdown",
   "metadata": {},
   "source": [
    "# Combine table"
   ]
  },
  {
   "cell_type": "code",
   "execution_count": 61,
   "metadata": {},
   "outputs": [],
   "source": [
    "df = train\n",
    "df = df.merge(building_metadata, on='building_id')\n",
    "df = df.merge(weather_train, on=['site_id', 'timestamp'])"
   ]
  },
  {
   "cell_type": "code",
   "execution_count": 62,
   "metadata": {},
   "outputs": [],
   "source": [
    "df['log_meter_reading'] = df['meter_reading'].apply(lambda x: np.log(x + 1))\n",
    "df['timestamp'] = pd.to_datetime(df['timestamp'])\n",
    "# df = df.query('meter_reading > 0')"
   ]
  },
  {
   "cell_type": "code",
   "execution_count": 63,
   "metadata": {},
   "outputs": [],
   "source": [
    "# df0 = df.query('meter == 0')\n",
    "# df1 = df.query('meter == 1')\n",
    "# df2 = df.query('meter == 2')\n",
    "# df3 = df.query('meter == 3')\n",
    "df = df.query('meter == {}'.format(METER)).reset_index(drop=True)"
   ]
  },
  {
   "cell_type": "markdown",
   "metadata": {},
   "source": [
    "# Remove the problematic data"
   ]
  },
  {
   "cell_type": "code",
   "execution_count": 64,
   "metadata": {},
   "outputs": [],
   "source": [
    "df = df.query('not (meter == 0 and site_id == 0 and timestamp < \"2016-05-21\")').reset_index(drop=True)"
   ]
  },
  {
   "cell_type": "markdown",
   "metadata": {},
   "source": [
    "# Feature pre-processing"
   ]
  },
  {
   "cell_type": "code",
   "execution_count": 65,
   "metadata": {},
   "outputs": [
    {
     "data": {
      "text/html": [
       "<div>\n",
       "<style scoped>\n",
       "    .dataframe tbody tr th:only-of-type {\n",
       "        vertical-align: middle;\n",
       "    }\n",
       "\n",
       "    .dataframe tbody tr th {\n",
       "        vertical-align: top;\n",
       "    }\n",
       "\n",
       "    .dataframe thead th {\n",
       "        text-align: right;\n",
       "    }\n",
       "</style>\n",
       "<table border=\"1\" class=\"dataframe\">\n",
       "  <thead>\n",
       "    <tr style=\"text-align: right;\">\n",
       "      <th></th>\n",
       "      <th>building_id</th>\n",
       "      <th>meter</th>\n",
       "      <th>timestamp</th>\n",
       "      <th>meter_reading</th>\n",
       "      <th>site_id</th>\n",
       "      <th>primary_use</th>\n",
       "      <th>square_feet</th>\n",
       "      <th>year_built</th>\n",
       "      <th>floor_count</th>\n",
       "      <th>air_temperature</th>\n",
       "      <th>cloud_coverage</th>\n",
       "      <th>dew_temperature</th>\n",
       "      <th>precip_depth_1_hr</th>\n",
       "      <th>sea_level_pressure</th>\n",
       "      <th>wind_direction</th>\n",
       "      <th>wind_speed</th>\n",
       "      <th>log_meter_reading</th>\n",
       "    </tr>\n",
       "  </thead>\n",
       "  <tbody>\n",
       "    <tr>\n",
       "      <th>0</th>\n",
       "      <td>106</td>\n",
       "      <td>3</td>\n",
       "      <td>2016-01-01</td>\n",
       "      <td>0.000</td>\n",
       "      <td>1</td>\n",
       "      <td>Education</td>\n",
       "      <td>5374</td>\n",
       "      <td>NaN</td>\n",
       "      <td>4.0</td>\n",
       "      <td>3.8</td>\n",
       "      <td>NaN</td>\n",
       "      <td>2.4</td>\n",
       "      <td>NaN</td>\n",
       "      <td>1020.9</td>\n",
       "      <td>240.0</td>\n",
       "      <td>3.1</td>\n",
       "      <td>0.000000</td>\n",
       "    </tr>\n",
       "    <tr>\n",
       "      <th>1</th>\n",
       "      <td>109</td>\n",
       "      <td>3</td>\n",
       "      <td>2016-01-01</td>\n",
       "      <td>0.000</td>\n",
       "      <td>1</td>\n",
       "      <td>Education</td>\n",
       "      <td>56995</td>\n",
       "      <td>1953.0</td>\n",
       "      <td>6.0</td>\n",
       "      <td>3.8</td>\n",
       "      <td>NaN</td>\n",
       "      <td>2.4</td>\n",
       "      <td>NaN</td>\n",
       "      <td>1020.9</td>\n",
       "      <td>240.0</td>\n",
       "      <td>3.1</td>\n",
       "      <td>0.000000</td>\n",
       "    </tr>\n",
       "    <tr>\n",
       "      <th>2</th>\n",
       "      <td>112</td>\n",
       "      <td>3</td>\n",
       "      <td>2016-01-01</td>\n",
       "      <td>96.978</td>\n",
       "      <td>1</td>\n",
       "      <td>Education</td>\n",
       "      <td>32206</td>\n",
       "      <td>NaN</td>\n",
       "      <td>6.0</td>\n",
       "      <td>3.8</td>\n",
       "      <td>NaN</td>\n",
       "      <td>2.4</td>\n",
       "      <td>NaN</td>\n",
       "      <td>1020.9</td>\n",
       "      <td>240.0</td>\n",
       "      <td>3.1</td>\n",
       "      <td>4.584743</td>\n",
       "    </tr>\n",
       "    <tr>\n",
       "      <th>3</th>\n",
       "      <td>113</td>\n",
       "      <td>3</td>\n",
       "      <td>2016-01-01</td>\n",
       "      <td>19.597</td>\n",
       "      <td>1</td>\n",
       "      <td>Education</td>\n",
       "      <td>100481</td>\n",
       "      <td>1958.0</td>\n",
       "      <td>9.0</td>\n",
       "      <td>3.8</td>\n",
       "      <td>NaN</td>\n",
       "      <td>2.4</td>\n",
       "      <td>NaN</td>\n",
       "      <td>1020.9</td>\n",
       "      <td>240.0</td>\n",
       "      <td>3.1</td>\n",
       "      <td>3.025145</td>\n",
       "    </tr>\n",
       "    <tr>\n",
       "      <th>4</th>\n",
       "      <td>114</td>\n",
       "      <td>3</td>\n",
       "      <td>2016-01-01</td>\n",
       "      <td>100.000</td>\n",
       "      <td>1</td>\n",
       "      <td>Education</td>\n",
       "      <td>139683</td>\n",
       "      <td>1958.0</td>\n",
       "      <td>13.0</td>\n",
       "      <td>3.8</td>\n",
       "      <td>NaN</td>\n",
       "      <td>2.4</td>\n",
       "      <td>NaN</td>\n",
       "      <td>1020.9</td>\n",
       "      <td>240.0</td>\n",
       "      <td>3.1</td>\n",
       "      <td>4.615121</td>\n",
       "    </tr>\n",
       "  </tbody>\n",
       "</table>\n",
       "</div>"
      ],
      "text/plain": [
       "   building_id  meter  timestamp  meter_reading  site_id primary_use  \\\n",
       "0          106      3 2016-01-01          0.000        1   Education   \n",
       "1          109      3 2016-01-01          0.000        1   Education   \n",
       "2          112      3 2016-01-01         96.978        1   Education   \n",
       "3          113      3 2016-01-01         19.597        1   Education   \n",
       "4          114      3 2016-01-01        100.000        1   Education   \n",
       "\n",
       "   square_feet  year_built  floor_count  air_temperature  cloud_coverage  \\\n",
       "0         5374         NaN          4.0              3.8             NaN   \n",
       "1        56995      1953.0          6.0              3.8             NaN   \n",
       "2        32206         NaN          6.0              3.8             NaN   \n",
       "3       100481      1958.0          9.0              3.8             NaN   \n",
       "4       139683      1958.0         13.0              3.8             NaN   \n",
       "\n",
       "   dew_temperature  precip_depth_1_hr  sea_level_pressure  wind_direction  \\\n",
       "0              2.4                NaN              1020.9           240.0   \n",
       "1              2.4                NaN              1020.9           240.0   \n",
       "2              2.4                NaN              1020.9           240.0   \n",
       "3              2.4                NaN              1020.9           240.0   \n",
       "4              2.4                NaN              1020.9           240.0   \n",
       "\n",
       "   wind_speed  log_meter_reading  \n",
       "0         3.1           0.000000  \n",
       "1         3.1           0.000000  \n",
       "2         3.1           4.584743  \n",
       "3         3.1           3.025145  \n",
       "4         3.1           4.615121  "
      ]
     },
     "execution_count": 65,
     "metadata": {},
     "output_type": "execute_result"
    }
   ],
   "source": [
    "df.head()"
   ]
  },
  {
   "cell_type": "code",
   "execution_count": 66,
   "metadata": {},
   "outputs": [],
   "source": [
    "# sns.boxplot(\n",
    "#     y=df['floor_count'],#M orient='h',\n",
    "# )\n",
    "\n",
    "# sns.boxplot(\n",
    "#     y=df.merge(\n",
    "#         df.groupby('building_id').apply(lambda x: x[['timestamp', 'precip_depth_1_hr']].sort_values('timestamp').rolling('72h', on='timestamp').mean().set_index('timestamp')).reset_index(),\n",
    "#         on=['building_id', 'timestamp'], how='left', suffixes=('', '_72h_mean'),\n",
    "#     )['precip_depth_1_hr_72h_mean'].apply(lambda x: np.floor(x/10)*10),\n",
    "#     x=df['log_meter_reading'],\n",
    "#     orient='h',\n",
    "# )"
   ]
  },
  {
   "cell_type": "code",
   "execution_count": 67,
   "metadata": {
    "scrolled": false
   },
   "outputs": [],
   "source": [
    "from sklearn.pipeline import FeatureUnion, make_pipeline\n",
    "from sklearn.preprocessing import OneHotEncoder, StandardScaler, FunctionTransformer\n",
    "from sklearn.impute import SimpleImputer, MissingIndicator\n",
    "from sklearn.compose import make_column_transformer\n",
    "\n",
    "feature_preproc = make_pipeline(\n",
    "    FeatureUnion([\n",
    "        ('numeric_features', make_pipeline(\n",
    "            FunctionTransformer(lambda x: x[numerical], validate=False),\n",
    "            FunctionTransformer(lambda x: x.assign(**{'precip_depth_1_hr': lambda y: y['precip_depth_1_hr'].clip(lower=0).fillna(0)}), validate=False),\n",
    "            SimpleImputer(strategy=\"median\"),\n",
    "            #StandardScaler(),\n",
    "        )),\n",
    "        ('categorical_features', make_pipeline(\n",
    "            FunctionTransformer(lambda x: x[categorical], validate=False),\n",
    "            SimpleImputer(strategy=\"most_frequent\"),\n",
    "            OneHotEncoder(sparse=False),\n",
    "        )),\n",
    "        ('precip_depth_1_hr_isnan', make_pipeline(\n",
    "            FunctionTransformer(lambda x: x[['precip_depth_1_hr']], validate=False),\n",
    "            MissingIndicator(error_on_new=False, sparse=False),\n",
    "        )),\n",
    "        ('wind_direction', make_pipeline(\n",
    "            FunctionTransformer(lambda x: pd.concat((\n",
    "                    x['wind_direction'].apply(lambda x: np.sin(x/360 * 2*np.pi)),\n",
    "                    x['wind_direction'].apply(lambda x: np.cos(x/360 * 2*np.pi)),\n",
    "                ), axis='columns'), validate=False),\n",
    "            SimpleImputer(strategy=\"median\"),\n",
    "        )),\n",
    "        ('month', make_pipeline(\n",
    "            FunctionTransformer(lambda x: pd.concat((\n",
    "                    x['timestamp'].dt.month.apply(lambda x: np.sin(x/12 * 2*np.pi)),\n",
    "                    x['timestamp'].dt.month.apply(lambda x: np.cos(x/12 * 2*np.pi)),\n",
    "                ), axis='columns'), validate=False),\n",
    "            SimpleImputer(strategy=\"median\"),\n",
    "        )), \n",
    "     ]),\n",
    ")\n",
    "\n",
    "feature_preproc.fit(df.sample(int(SUBSAMPLE_FEATURE_PREPROC * df.shape[0])));\n",
    "\n",
    "feature_names = numerical \\\n",
    "    + [ re.sub(r\"^(?:x)([0-9])\", lambda m: categorical[int(m.group(1))], x) \\\n",
    "         for x in feature_preproc.steps[-1][-1].transformer_list[1][-1].steps[-1][-1].get_feature_names().tolist() ] \\\n",
    "    + ['precip_depth_1_hr_isnan'] \\\n",
    "    + ['wind_direction_sin', 'wind_direction_cos'] \\\n",
    "    + ['month_sin', 'month_cos']"
   ]
  },
  {
   "cell_type": "code",
   "execution_count": 68,
   "metadata": {},
   "outputs": [],
   "source": [
    "np.random.seed(42)\n",
    "idx_train = np.random.choice(df.shape[0], int(SUBSAMPLE_TRAIN * df.shape[0]), replace=False)\n",
    "\n",
    "idx = np.zeros(df.shape[0]).astype(bool)\n",
    "idx[idx_train] = True\n",
    "idx_train = idx"
   ]
  },
  {
   "cell_type": "code",
   "execution_count": 69,
   "metadata": {},
   "outputs": [],
   "source": [
    "X_train = pd.DataFrame(feature_preproc.transform(df.iloc[idx_train, :]), columns=feature_names)\n",
    "y_train = df.iloc[idx_train]['log_meter_reading']"
   ]
  },
  {
   "cell_type": "code",
   "execution_count": 70,
   "metadata": {},
   "outputs": [
    {
     "data": {
      "text/html": [
       "<div>\n",
       "<style scoped>\n",
       "    .dataframe tbody tr th:only-of-type {\n",
       "        vertical-align: middle;\n",
       "    }\n",
       "\n",
       "    .dataframe tbody tr th {\n",
       "        vertical-align: top;\n",
       "    }\n",
       "\n",
       "    .dataframe thead th {\n",
       "        text-align: right;\n",
       "    }\n",
       "</style>\n",
       "<table border=\"1\" class=\"dataframe\">\n",
       "  <thead>\n",
       "    <tr style=\"text-align: right;\">\n",
       "      <th></th>\n",
       "      <th>square_feet</th>\n",
       "      <th>year_built</th>\n",
       "      <th>floor_count</th>\n",
       "      <th>air_temperature</th>\n",
       "      <th>cloud_coverage</th>\n",
       "      <th>dew_temperature</th>\n",
       "      <th>precip_depth_1_hr</th>\n",
       "      <th>sea_level_pressure</th>\n",
       "      <th>wind_speed</th>\n",
       "      <th>primary_use_Education</th>\n",
       "      <th>...</th>\n",
       "      <th>primary_use_Healthcare</th>\n",
       "      <th>primary_use_Lodging/residential</th>\n",
       "      <th>primary_use_Office</th>\n",
       "      <th>primary_use_Public services</th>\n",
       "      <th>primary_use_Technology/science</th>\n",
       "      <th>precip_depth_1_hr_isnan</th>\n",
       "      <th>wind_direction_sin</th>\n",
       "      <th>wind_direction_cos</th>\n",
       "      <th>month_sin</th>\n",
       "      <th>month_cos</th>\n",
       "    </tr>\n",
       "  </thead>\n",
       "  <tbody>\n",
       "    <tr>\n",
       "      <th>0</th>\n",
       "      <td>5374.0</td>\n",
       "      <td>1968.0</td>\n",
       "      <td>4.0</td>\n",
       "      <td>3.8</td>\n",
       "      <td>0.0</td>\n",
       "      <td>2.4</td>\n",
       "      <td>0.0</td>\n",
       "      <td>1020.9</td>\n",
       "      <td>3.1</td>\n",
       "      <td>1.0</td>\n",
       "      <td>...</td>\n",
       "      <td>0.0</td>\n",
       "      <td>0.0</td>\n",
       "      <td>0.0</td>\n",
       "      <td>0.0</td>\n",
       "      <td>0.0</td>\n",
       "      <td>1.0</td>\n",
       "      <td>-0.866025</td>\n",
       "      <td>-0.5</td>\n",
       "      <td>0.5</td>\n",
       "      <td>0.866025</td>\n",
       "    </tr>\n",
       "    <tr>\n",
       "      <th>1</th>\n",
       "      <td>56995.0</td>\n",
       "      <td>1953.0</td>\n",
       "      <td>6.0</td>\n",
       "      <td>3.8</td>\n",
       "      <td>0.0</td>\n",
       "      <td>2.4</td>\n",
       "      <td>0.0</td>\n",
       "      <td>1020.9</td>\n",
       "      <td>3.1</td>\n",
       "      <td>1.0</td>\n",
       "      <td>...</td>\n",
       "      <td>0.0</td>\n",
       "      <td>0.0</td>\n",
       "      <td>0.0</td>\n",
       "      <td>0.0</td>\n",
       "      <td>0.0</td>\n",
       "      <td>1.0</td>\n",
       "      <td>-0.866025</td>\n",
       "      <td>-0.5</td>\n",
       "      <td>0.5</td>\n",
       "      <td>0.866025</td>\n",
       "    </tr>\n",
       "    <tr>\n",
       "      <th>2</th>\n",
       "      <td>32206.0</td>\n",
       "      <td>1968.0</td>\n",
       "      <td>6.0</td>\n",
       "      <td>3.8</td>\n",
       "      <td>0.0</td>\n",
       "      <td>2.4</td>\n",
       "      <td>0.0</td>\n",
       "      <td>1020.9</td>\n",
       "      <td>3.1</td>\n",
       "      <td>1.0</td>\n",
       "      <td>...</td>\n",
       "      <td>0.0</td>\n",
       "      <td>0.0</td>\n",
       "      <td>0.0</td>\n",
       "      <td>0.0</td>\n",
       "      <td>0.0</td>\n",
       "      <td>1.0</td>\n",
       "      <td>-0.866025</td>\n",
       "      <td>-0.5</td>\n",
       "      <td>0.5</td>\n",
       "      <td>0.866025</td>\n",
       "    </tr>\n",
       "    <tr>\n",
       "      <th>3</th>\n",
       "      <td>100481.0</td>\n",
       "      <td>1958.0</td>\n",
       "      <td>9.0</td>\n",
       "      <td>3.8</td>\n",
       "      <td>0.0</td>\n",
       "      <td>2.4</td>\n",
       "      <td>0.0</td>\n",
       "      <td>1020.9</td>\n",
       "      <td>3.1</td>\n",
       "      <td>1.0</td>\n",
       "      <td>...</td>\n",
       "      <td>0.0</td>\n",
       "      <td>0.0</td>\n",
       "      <td>0.0</td>\n",
       "      <td>0.0</td>\n",
       "      <td>0.0</td>\n",
       "      <td>1.0</td>\n",
       "      <td>-0.866025</td>\n",
       "      <td>-0.5</td>\n",
       "      <td>0.5</td>\n",
       "      <td>0.866025</td>\n",
       "    </tr>\n",
       "    <tr>\n",
       "      <th>4</th>\n",
       "      <td>139683.0</td>\n",
       "      <td>1958.0</td>\n",
       "      <td>13.0</td>\n",
       "      <td>3.8</td>\n",
       "      <td>0.0</td>\n",
       "      <td>2.4</td>\n",
       "      <td>0.0</td>\n",
       "      <td>1020.9</td>\n",
       "      <td>3.1</td>\n",
       "      <td>1.0</td>\n",
       "      <td>...</td>\n",
       "      <td>0.0</td>\n",
       "      <td>0.0</td>\n",
       "      <td>0.0</td>\n",
       "      <td>0.0</td>\n",
       "      <td>0.0</td>\n",
       "      <td>1.0</td>\n",
       "      <td>-0.866025</td>\n",
       "      <td>-0.5</td>\n",
       "      <td>0.5</td>\n",
       "      <td>0.866025</td>\n",
       "    </tr>\n",
       "  </tbody>\n",
       "</table>\n",
       "<p>5 rows × 22 columns</p>\n",
       "</div>"
      ],
      "text/plain": [
       "   square_feet  year_built  floor_count  air_temperature  cloud_coverage  \\\n",
       "0       5374.0      1968.0          4.0              3.8             0.0   \n",
       "1      56995.0      1953.0          6.0              3.8             0.0   \n",
       "2      32206.0      1968.0          6.0              3.8             0.0   \n",
       "3     100481.0      1958.0          9.0              3.8             0.0   \n",
       "4     139683.0      1958.0         13.0              3.8             0.0   \n",
       "\n",
       "   dew_temperature  precip_depth_1_hr  sea_level_pressure  wind_speed  \\\n",
       "0              2.4                0.0              1020.9         3.1   \n",
       "1              2.4                0.0              1020.9         3.1   \n",
       "2              2.4                0.0              1020.9         3.1   \n",
       "3              2.4                0.0              1020.9         3.1   \n",
       "4              2.4                0.0              1020.9         3.1   \n",
       "\n",
       "   primary_use_Education  ...  primary_use_Healthcare  \\\n",
       "0                    1.0  ...                     0.0   \n",
       "1                    1.0  ...                     0.0   \n",
       "2                    1.0  ...                     0.0   \n",
       "3                    1.0  ...                     0.0   \n",
       "4                    1.0  ...                     0.0   \n",
       "\n",
       "   primary_use_Lodging/residential  primary_use_Office  \\\n",
       "0                              0.0                 0.0   \n",
       "1                              0.0                 0.0   \n",
       "2                              0.0                 0.0   \n",
       "3                              0.0                 0.0   \n",
       "4                              0.0                 0.0   \n",
       "\n",
       "   primary_use_Public services  primary_use_Technology/science  \\\n",
       "0                          0.0                             0.0   \n",
       "1                          0.0                             0.0   \n",
       "2                          0.0                             0.0   \n",
       "3                          0.0                             0.0   \n",
       "4                          0.0                             0.0   \n",
       "\n",
       "   precip_depth_1_hr_isnan  wind_direction_sin  wind_direction_cos  month_sin  \\\n",
       "0                      1.0           -0.866025                -0.5        0.5   \n",
       "1                      1.0           -0.866025                -0.5        0.5   \n",
       "2                      1.0           -0.866025                -0.5        0.5   \n",
       "3                      1.0           -0.866025                -0.5        0.5   \n",
       "4                      1.0           -0.866025                -0.5        0.5   \n",
       "\n",
       "   month_cos  \n",
       "0   0.866025  \n",
       "1   0.866025  \n",
       "2   0.866025  \n",
       "3   0.866025  \n",
       "4   0.866025  \n",
       "\n",
       "[5 rows x 22 columns]"
      ]
     },
     "execution_count": 70,
     "metadata": {},
     "output_type": "execute_result"
    }
   ],
   "source": [
    "X_train.head()"
   ]
  },
  {
   "cell_type": "markdown",
   "metadata": {},
   "source": [
    "# Train"
   ]
  },
  {
   "cell_type": "code",
   "execution_count": 71,
   "metadata": {},
   "outputs": [],
   "source": [
    "from xgboost import XGBRegressor\n",
    "\n",
    "model = XGBRegressor()"
   ]
  },
  {
   "cell_type": "code",
   "execution_count": 72,
   "metadata": {},
   "outputs": [
    {
     "name": "stdout",
     "output_type": "stream",
     "text": [
      "Mon Nov  4 10:59:37 EST 2019\r\n"
     ]
    }
   ],
   "source": [
    "!date"
   ]
  },
  {
   "cell_type": "code",
   "execution_count": 73,
   "metadata": {},
   "outputs": [
    {
     "name": "stdout",
     "output_type": "stream",
     "text": [
      "[10:59:38] WARNING: /workspace/src/objective/regression_obj.cu:152: reg:linear is now deprecated in favor of reg:squarederror.\n"
     ]
    },
    {
     "data": {
      "text/plain": [
       "XGBRegressor(base_score=0.5, booster='gbtree', colsample_bylevel=1,\n",
       "             colsample_bynode=1, colsample_bytree=1, gamma=0,\n",
       "             importance_type='gain', learning_rate=0.1, max_delta_step=0,\n",
       "             max_depth=3, min_child_weight=1, missing=None, n_estimators=100,\n",
       "             n_jobs=1, nthread=None, objective='reg:linear', random_state=0,\n",
       "             reg_alpha=0, reg_lambda=1, scale_pos_weight=1, seed=None,\n",
       "             silent=None, subsample=1, verbosity=1)"
      ]
     },
     "execution_count": 73,
     "metadata": {},
     "output_type": "execute_result"
    }
   ],
   "source": [
    "model.fit(X_train, y_train)"
   ]
  },
  {
   "cell_type": "code",
   "execution_count": 74,
   "metadata": {},
   "outputs": [
    {
     "name": "stdout",
     "output_type": "stream",
     "text": [
      "Mon Nov  4 11:00:51 EST 2019\r\n"
     ]
    }
   ],
   "source": [
    "!date"
   ]
  },
  {
   "cell_type": "code",
   "execution_count": 75,
   "metadata": {},
   "outputs": [],
   "source": [
    "y_pred = model.predict(X_train)"
   ]
  },
  {
   "cell_type": "code",
   "execution_count": 76,
   "metadata": {},
   "outputs": [
    {
     "data": {
      "text/plain": [
       "3.320781344815378"
      ]
     },
     "execution_count": 76,
     "metadata": {},
     "output_type": "execute_result"
    }
   ],
   "source": [
    "from sklearn.metrics import mean_squared_error\n",
    "\n",
    "mean_squared_error(y_train, y_pred)"
   ]
  },
  {
   "cell_type": "markdown",
   "metadata": {},
   "source": [
    "# Validate"
   ]
  },
  {
   "cell_type": "code",
   "execution_count": 77,
   "metadata": {},
   "outputs": [],
   "source": [
    "X_val = pd.DataFrame(feature_preproc.transform(df.iloc[~idx_train, :]), columns=feature_names)\n",
    "y_val = df.iloc[~idx_train]['log_meter_reading']"
   ]
  },
  {
   "cell_type": "code",
   "execution_count": 78,
   "metadata": {},
   "outputs": [
    {
     "data": {
      "text/plain": [
       "((126143, 22), 1135283)"
      ]
     },
     "execution_count": 78,
     "metadata": {},
     "output_type": "execute_result"
    }
   ],
   "source": [
    "X_val.shape, idx_train.sum()"
   ]
  },
  {
   "cell_type": "code",
   "execution_count": 79,
   "metadata": {},
   "outputs": [],
   "source": [
    "y_pred = model.predict(X_val)"
   ]
  },
  {
   "cell_type": "code",
   "execution_count": 80,
   "metadata": {},
   "outputs": [
    {
     "data": {
      "text/plain": [
       "3.3332351891259457"
      ]
     },
     "execution_count": 80,
     "metadata": {},
     "output_type": "execute_result"
    }
   ],
   "source": [
    "from sklearn.metrics import mean_squared_error\n",
    "\n",
    "mean_squared_error(y_val, y_pred)"
   ]
  },
  {
   "cell_type": "markdown",
   "metadata": {},
   "source": [
    "# Feature importance"
   ]
  },
  {
   "cell_type": "code",
   "execution_count": null,
   "metadata": {},
   "outputs": [],
   "source": [
    "pd.DataFrame({\n",
    "    'feature_name': feature_names,\n",
    "    'feature_importance': model.feature_importances_,\n",
    "}).sort_values(by='feature_importance', ascending=False)"
   ]
  },
  {
   "cell_type": "markdown",
   "metadata": {},
   "source": [
    "# Test"
   ]
  },
  {
   "cell_type": "code",
   "execution_count": 25,
   "metadata": {},
   "outputs": [],
   "source": [
    "df = test\n",
    "df = df.merge(building_metadata, on='building_id')\n",
    "df = df.merge(weather_test, on=['site_id', 'timestamp'])"
   ]
  },
  {
   "cell_type": "code",
   "execution_count": null,
   "metadata": {},
   "outputs": [],
   "source": [
    "df = df.query('meter == {}'.format(METER))"
   ]
  },
  {
   "cell_type": "code",
   "execution_count": null,
   "metadata": {},
   "outputs": [],
   "source": [
    "X_test = pd.DataFrame(feature_preproc.transform(df[numerical + categorical]), columns=feature_names)"
   ]
  },
  {
   "cell_type": "code",
   "execution_count": 24,
   "metadata": {},
   "outputs": [],
   "source": [
    "y_pred = model.predict(X_test)"
   ]
  },
  {
   "cell_type": "code",
   "execution_count": 25,
   "metadata": {},
   "outputs": [],
   "source": [
    "submit = pd.DataFrame({'id': df['row_id'], 'meter_reading': np.round(np.exp(y_pred) - 1, 4)})"
   ]
  },
  {
   "cell_type": "code",
   "execution_count": 26,
   "metadata": {},
   "outputs": [],
   "source": [
    "submit.to_csv('output/result_meter{}_test.csv'.format(METER), index=False)"
   ]
  },
  {
   "cell_type": "markdown",
   "metadata": {},
   "source": [
    "# Save model"
   ]
  },
  {
   "cell_type": "code",
   "execution_count": 81,
   "metadata": {},
   "outputs": [],
   "source": [
    "import dill as pickle\n",
    "\n",
    "with open('model/model_xgboost_meter{}.p'.format(METER), 'wb') as file:\n",
    "    pickle.dump(model, file)\n",
    "    \n",
    "with open('model/feature_preproc_meter{}.p'.format(METER), 'wb') as file:\n",
    "    pickle.dump(feature_preproc, file)"
   ]
  },
  {
   "cell_type": "code",
   "execution_count": null,
   "metadata": {},
   "outputs": [],
   "source": []
  }
 ],
 "metadata": {
  "kernelspec": {
   "display_name": "Python 3",
   "language": "python",
   "name": "python3"
  },
  "language_info": {
   "codemirror_mode": {
    "name": "ipython",
    "version": 3
   },
   "file_extension": ".py",
   "mimetype": "text/x-python",
   "name": "python",
   "nbconvert_exporter": "python",
   "pygments_lexer": "ipython3",
   "version": "3.7.4"
  },
  "toc": {
   "base_numbering": 1,
   "nav_menu": {},
   "number_sections": true,
   "sideBar": true,
   "skip_h1_title": false,
   "title_cell": "Table of Contents",
   "title_sidebar": "Contents",
   "toc_cell": false,
   "toc_position": {},
   "toc_section_display": true,
   "toc_window_display": false
  }
 },
 "nbformat": 4,
 "nbformat_minor": 2
}
