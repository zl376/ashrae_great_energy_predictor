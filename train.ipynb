{
 "cells": [
  {
   "cell_type": "code",
   "execution_count": 1,
   "metadata": {},
   "outputs": [],
   "source": [
    "import pandas as pd\n",
    "import numpy as np\n",
    "import matplotlib.pyplot as plt\n",
    "import seaborn as sns\n",
    "import re\n",
    "\n",
    "import warnings\n",
    "warnings.filterwarnings(\"ignore\")"
   ]
  },
  {
   "cell_type": "code",
   "execution_count": 2,
   "metadata": {},
   "outputs": [],
   "source": [
    "DATA_DIR = 'data/'\n",
    "SUBSAMPLE_FEATURE_PREPROC = 0.01\n",
    "SUBSAMPLE_TRAIN = 0.9\n",
    "METER = 3"
   ]
  },
  {
   "cell_type": "code",
   "execution_count": 3,
   "metadata": {},
   "outputs": [
    {
     "name": "stdout",
     "output_type": "stream",
     "text": [
      "building_metadata.csv  test.csv   weather_test.csv\r\n",
      "sample_submission.csv  train.csv  weather_train.csv\r\n"
     ]
    }
   ],
   "source": [
    "!ls {DATA_DIR}"
   ]
  },
  {
   "cell_type": "markdown",
   "metadata": {},
   "source": [
    "# Load data "
   ]
  },
  {
   "cell_type": "code",
   "execution_count": 4,
   "metadata": {},
   "outputs": [],
   "source": [
    "building_metadata = pd.read_csv(DATA_DIR + 'building_metadata.csv')\n",
    "weather_train = pd.read_csv(DATA_DIR + 'weather_train.csv')\n",
    "weather_test = pd.read_csv(DATA_DIR + 'weather_test.csv')\n",
    "train = pd.read_csv(DATA_DIR + 'train.csv')\n",
    "test = pd.read_csv(DATA_DIR + 'test.csv')"
   ]
  },
  {
   "cell_type": "code",
   "execution_count": 5,
   "metadata": {},
   "outputs": [],
   "source": [
    "map_meter2desc = {0: 'electricity', 1: 'chilledwater', 2: 'steam', 3: 'hotwater'}"
   ]
  },
  {
   "cell_type": "code",
   "execution_count": 6,
   "metadata": {},
   "outputs": [],
   "source": [
    "numerical = [\n",
    "    'square_feet', \n",
    "    'year_built', \n",
    "    'floor_count', \n",
    "    'air_temperature', \n",
    "    'cloud_coverage', \n",
    "    'dew_temperature',\n",
    "    'precip_depth_1_hr',\n",
    "    'sea_level_pressure',\n",
    "    'wind_direction',\n",
    "    'wind_speed',\n",
    "]\n",
    "\n",
    "categorical = [\n",
    "    'primary_use',\n",
    "]"
   ]
  },
  {
   "cell_type": "markdown",
   "metadata": {},
   "source": [
    "# Combine table"
   ]
  },
  {
   "cell_type": "code",
   "execution_count": 7,
   "metadata": {},
   "outputs": [],
   "source": [
    "df = train\n",
    "df = df.merge(building_metadata, on='building_id')\n",
    "df = df.merge(weather_train, on=['site_id', 'timestamp'])"
   ]
  },
  {
   "cell_type": "code",
   "execution_count": 8,
   "metadata": {},
   "outputs": [],
   "source": [
    "df['log_meter_reading'] = df['meter_reading'].apply(lambda x: np.log(x + 1))\n",
    "df['timestamp'] = pd.to_datetime(df['timestamp'])\n",
    "# df = df.query('meter_reading > 0')"
   ]
  },
  {
   "cell_type": "code",
   "execution_count": 9,
   "metadata": {},
   "outputs": [],
   "source": [
    "# df0 = df.query('meter == 0')\n",
    "# df1 = df.query('meter == 1')\n",
    "# df2 = df.query('meter == 2')\n",
    "# df3 = df.query('meter == 3')\n",
    "df = df.query('meter == {}'.format(METER))"
   ]
  },
  {
   "cell_type": "markdown",
   "metadata": {},
   "source": [
    "# Remove the problematic data"
   ]
  },
  {
   "cell_type": "code",
   "execution_count": 10,
   "metadata": {},
   "outputs": [],
   "source": [
    "df = df.query('not (meter == 0 and site_id == 0 and timestamp < \"2016-05-21\")')"
   ]
  },
  {
   "cell_type": "markdown",
   "metadata": {},
   "source": [
    "# Feature pre-processing"
   ]
  },
  {
   "cell_type": "code",
   "execution_count": 11,
   "metadata": {},
   "outputs": [],
   "source": [
    "from sklearn.pipeline import FeatureUnion, make_pipeline\n",
    "from sklearn.preprocessing import OneHotEncoder, StandardScaler\n",
    "from sklearn.impute import SimpleImputer\n",
    "from sklearn.compose import make_column_transformer\n",
    "\n",
    "feature_preproc = make_pipeline(\n",
    "    FeatureUnion([\n",
    "        ('numeric_features', make_pipeline(\n",
    "            make_column_transformer(('passthrough', numerical)),\n",
    "            SimpleImputer(strategy=\"median\"),\n",
    "            StandardScaler(),\n",
    "        )),\n",
    "        ('categorical_features', make_pipeline(\n",
    "            make_column_transformer(('passthrough', categorical)),\n",
    "            SimpleImputer(strategy=\"most_frequent\"),\n",
    "            OneHotEncoder(sparse=False),\n",
    "        )),\n",
    "     ]),\n",
    ")\n",
    "\n",
    "feature_preproc.fit(df.sample(int(SUBSAMPLE_FEATURE_PREPROC * df.shape[0]))[numerical + categorical]);\n",
    "\n",
    "feature_names = numerical + \\\n",
    "    [ re.sub(r\"^(?:x)([0-9])\", lambda m: categorical[int(m.group(1))], x) \\\n",
    "         for x in feature_preproc.steps[-1][-1].transformer_list[1][-1].steps[-1][-1].get_feature_names().tolist() ]"
   ]
  },
  {
   "cell_type": "code",
   "execution_count": 12,
   "metadata": {},
   "outputs": [],
   "source": [
    "idx_train = np.random.choice(df.shape[0], int(SUBSAMPLE_TRAIN * df.shape[0]), replace=False)\n",
    "\n",
    "idx = np.zeros(df.shape[0]).astype(bool)\n",
    "idx[idx_train] = True\n",
    "idx_train = idx"
   ]
  },
  {
   "cell_type": "code",
   "execution_count": 13,
   "metadata": {},
   "outputs": [],
   "source": [
    "X_train = pd.DataFrame(feature_preproc.transform(df.iloc[idx_train, :][numerical + categorical]), columns=feature_names)\n",
    "y_train = df.iloc[idx_train]['log_meter_reading']"
   ]
  },
  {
   "cell_type": "code",
   "execution_count": 14,
   "metadata": {},
   "outputs": [
    {
     "data": {
      "text/html": [
       "<div>\n",
       "<style scoped>\n",
       "    .dataframe tbody tr th:only-of-type {\n",
       "        vertical-align: middle;\n",
       "    }\n",
       "\n",
       "    .dataframe tbody tr th {\n",
       "        vertical-align: top;\n",
       "    }\n",
       "\n",
       "    .dataframe thead th {\n",
       "        text-align: right;\n",
       "    }\n",
       "</style>\n",
       "<table border=\"1\" class=\"dataframe\">\n",
       "  <thead>\n",
       "    <tr style=\"text-align: right;\">\n",
       "      <th></th>\n",
       "      <th>square_feet</th>\n",
       "      <th>year_built</th>\n",
       "      <th>floor_count</th>\n",
       "      <th>air_temperature</th>\n",
       "      <th>cloud_coverage</th>\n",
       "      <th>dew_temperature</th>\n",
       "      <th>precip_depth_1_hr</th>\n",
       "      <th>sea_level_pressure</th>\n",
       "      <th>wind_direction</th>\n",
       "      <th>wind_speed</th>\n",
       "      <th>primary_use_Education</th>\n",
       "      <th>primary_use_Entertainment/public assembly</th>\n",
       "      <th>primary_use_Food sales and service</th>\n",
       "      <th>primary_use_Healthcare</th>\n",
       "      <th>primary_use_Lodging/residential</th>\n",
       "      <th>primary_use_Office</th>\n",
       "      <th>primary_use_Public services</th>\n",
       "      <th>primary_use_Technology/science</th>\n",
       "    </tr>\n",
       "  </thead>\n",
       "  <tbody>\n",
       "    <tr>\n",
       "      <th>0</th>\n",
       "      <td>-1.092873</td>\n",
       "      <td>-0.073289</td>\n",
       "      <td>-0.804680</td>\n",
       "      <td>-1.161514</td>\n",
       "      <td>-0.457978</td>\n",
       "      <td>-0.257321</td>\n",
       "      <td>-0.107227</td>\n",
       "      <td>0.872074</td>\n",
       "      <td>0.567538</td>\n",
       "      <td>-0.026294</td>\n",
       "      <td>1.0</td>\n",
       "      <td>0.0</td>\n",
       "      <td>0.0</td>\n",
       "      <td>0.0</td>\n",
       "      <td>0.0</td>\n",
       "      <td>0.0</td>\n",
       "      <td>0.0</td>\n",
       "      <td>0.0</td>\n",
       "    </tr>\n",
       "    <tr>\n",
       "      <th>1</th>\n",
       "      <td>-0.572417</td>\n",
       "      <td>-0.952847</td>\n",
       "      <td>0.809030</td>\n",
       "      <td>-1.161514</td>\n",
       "      <td>-0.457978</td>\n",
       "      <td>-0.257321</td>\n",
       "      <td>-0.107227</td>\n",
       "      <td>0.872074</td>\n",
       "      <td>0.567538</td>\n",
       "      <td>-0.026294</td>\n",
       "      <td>1.0</td>\n",
       "      <td>0.0</td>\n",
       "      <td>0.0</td>\n",
       "      <td>0.0</td>\n",
       "      <td>0.0</td>\n",
       "      <td>0.0</td>\n",
       "      <td>0.0</td>\n",
       "      <td>0.0</td>\n",
       "    </tr>\n",
       "    <tr>\n",
       "      <th>2</th>\n",
       "      <td>-0.822346</td>\n",
       "      <td>-0.073289</td>\n",
       "      <td>0.809030</td>\n",
       "      <td>-1.161514</td>\n",
       "      <td>-0.457978</td>\n",
       "      <td>-0.257321</td>\n",
       "      <td>-0.107227</td>\n",
       "      <td>0.872074</td>\n",
       "      <td>0.567538</td>\n",
       "      <td>-0.026294</td>\n",
       "      <td>1.0</td>\n",
       "      <td>0.0</td>\n",
       "      <td>0.0</td>\n",
       "      <td>0.0</td>\n",
       "      <td>0.0</td>\n",
       "      <td>0.0</td>\n",
       "      <td>0.0</td>\n",
       "      <td>0.0</td>\n",
       "    </tr>\n",
       "    <tr>\n",
       "      <th>3</th>\n",
       "      <td>-0.133980</td>\n",
       "      <td>-0.659661</td>\n",
       "      <td>3.229594</td>\n",
       "      <td>-1.161514</td>\n",
       "      <td>-0.457978</td>\n",
       "      <td>-0.257321</td>\n",
       "      <td>-0.107227</td>\n",
       "      <td>0.872074</td>\n",
       "      <td>0.567538</td>\n",
       "      <td>-0.026294</td>\n",
       "      <td>1.0</td>\n",
       "      <td>0.0</td>\n",
       "      <td>0.0</td>\n",
       "      <td>0.0</td>\n",
       "      <td>0.0</td>\n",
       "      <td>0.0</td>\n",
       "      <td>0.0</td>\n",
       "      <td>0.0</td>\n",
       "    </tr>\n",
       "    <tr>\n",
       "      <th>4</th>\n",
       "      <td>0.261265</td>\n",
       "      <td>-0.659661</td>\n",
       "      <td>6.457013</td>\n",
       "      <td>-1.161514</td>\n",
       "      <td>-0.457978</td>\n",
       "      <td>-0.257321</td>\n",
       "      <td>-0.107227</td>\n",
       "      <td>0.872074</td>\n",
       "      <td>0.567538</td>\n",
       "      <td>-0.026294</td>\n",
       "      <td>1.0</td>\n",
       "      <td>0.0</td>\n",
       "      <td>0.0</td>\n",
       "      <td>0.0</td>\n",
       "      <td>0.0</td>\n",
       "      <td>0.0</td>\n",
       "      <td>0.0</td>\n",
       "      <td>0.0</td>\n",
       "    </tr>\n",
       "  </tbody>\n",
       "</table>\n",
       "</div>"
      ],
      "text/plain": [
       "   square_feet  year_built  floor_count  air_temperature  cloud_coverage  \\\n",
       "0    -1.092873   -0.073289    -0.804680        -1.161514       -0.457978   \n",
       "1    -0.572417   -0.952847     0.809030        -1.161514       -0.457978   \n",
       "2    -0.822346   -0.073289     0.809030        -1.161514       -0.457978   \n",
       "3    -0.133980   -0.659661     3.229594        -1.161514       -0.457978   \n",
       "4     0.261265   -0.659661     6.457013        -1.161514       -0.457978   \n",
       "\n",
       "   dew_temperature  precip_depth_1_hr  sea_level_pressure  wind_direction  \\\n",
       "0        -0.257321          -0.107227            0.872074        0.567538   \n",
       "1        -0.257321          -0.107227            0.872074        0.567538   \n",
       "2        -0.257321          -0.107227            0.872074        0.567538   \n",
       "3        -0.257321          -0.107227            0.872074        0.567538   \n",
       "4        -0.257321          -0.107227            0.872074        0.567538   \n",
       "\n",
       "   wind_speed  primary_use_Education  \\\n",
       "0   -0.026294                    1.0   \n",
       "1   -0.026294                    1.0   \n",
       "2   -0.026294                    1.0   \n",
       "3   -0.026294                    1.0   \n",
       "4   -0.026294                    1.0   \n",
       "\n",
       "   primary_use_Entertainment/public assembly  \\\n",
       "0                                        0.0   \n",
       "1                                        0.0   \n",
       "2                                        0.0   \n",
       "3                                        0.0   \n",
       "4                                        0.0   \n",
       "\n",
       "   primary_use_Food sales and service  primary_use_Healthcare  \\\n",
       "0                                 0.0                     0.0   \n",
       "1                                 0.0                     0.0   \n",
       "2                                 0.0                     0.0   \n",
       "3                                 0.0                     0.0   \n",
       "4                                 0.0                     0.0   \n",
       "\n",
       "   primary_use_Lodging/residential  primary_use_Office  \\\n",
       "0                              0.0                 0.0   \n",
       "1                              0.0                 0.0   \n",
       "2                              0.0                 0.0   \n",
       "3                              0.0                 0.0   \n",
       "4                              0.0                 0.0   \n",
       "\n",
       "   primary_use_Public services  primary_use_Technology/science  \n",
       "0                          0.0                             0.0  \n",
       "1                          0.0                             0.0  \n",
       "2                          0.0                             0.0  \n",
       "3                          0.0                             0.0  \n",
       "4                          0.0                             0.0  "
      ]
     },
     "execution_count": 14,
     "metadata": {},
     "output_type": "execute_result"
    }
   ],
   "source": [
    "X_train.head()"
   ]
  },
  {
   "cell_type": "markdown",
   "metadata": {},
   "source": [
    "# Train"
   ]
  },
  {
   "cell_type": "code",
   "execution_count": 15,
   "metadata": {},
   "outputs": [],
   "source": [
    "from xgboost import XGBRegressor\n",
    "\n",
    "model = XGBRegressor()"
   ]
  },
  {
   "cell_type": "code",
   "execution_count": 16,
   "metadata": {},
   "outputs": [
    {
     "name": "stdout",
     "output_type": "stream",
     "text": [
      "Sun Nov  3 11:51:07 EST 2019\r\n"
     ]
    }
   ],
   "source": [
    "!date"
   ]
  },
  {
   "cell_type": "code",
   "execution_count": 17,
   "metadata": {},
   "outputs": [
    {
     "name": "stdout",
     "output_type": "stream",
     "text": [
      "[11:51:07] WARNING: /workspace/src/objective/regression_obj.cu:152: reg:linear is now deprecated in favor of reg:squarederror.\n"
     ]
    },
    {
     "data": {
      "text/plain": [
       "XGBRegressor(base_score=0.5, booster='gbtree', colsample_bylevel=1,\n",
       "             colsample_bynode=1, colsample_bytree=1, gamma=0,\n",
       "             importance_type='gain', learning_rate=0.1, max_delta_step=0,\n",
       "             max_depth=3, min_child_weight=1, missing=None, n_estimators=100,\n",
       "             n_jobs=1, nthread=None, objective='reg:linear', random_state=0,\n",
       "             reg_alpha=0, reg_lambda=1, scale_pos_weight=1, seed=None,\n",
       "             silent=None, subsample=1, verbosity=1)"
      ]
     },
     "execution_count": 17,
     "metadata": {},
     "output_type": "execute_result"
    }
   ],
   "source": [
    "model.fit(X_train, y_train)"
   ]
  },
  {
   "cell_type": "code",
   "execution_count": 18,
   "metadata": {},
   "outputs": [
    {
     "name": "stdout",
     "output_type": "stream",
     "text": [
      "Sun Nov  3 11:52:14 EST 2019\r\n"
     ]
    }
   ],
   "source": [
    "!date"
   ]
  },
  {
   "cell_type": "code",
   "execution_count": 19,
   "metadata": {},
   "outputs": [],
   "source": [
    "y_pred = model.predict(X_train)"
   ]
  },
  {
   "cell_type": "code",
   "execution_count": 20,
   "metadata": {},
   "outputs": [
    {
     "data": {
      "text/plain": [
       "3.4341690123592357"
      ]
     },
     "execution_count": 20,
     "metadata": {},
     "output_type": "execute_result"
    }
   ],
   "source": [
    "from sklearn.metrics import mean_squared_error\n",
    "\n",
    "mean_squared_error(y_train, y_pred)"
   ]
  },
  {
   "cell_type": "markdown",
   "metadata": {},
   "source": [
    "# Validate"
   ]
  },
  {
   "cell_type": "code",
   "execution_count": 21,
   "metadata": {},
   "outputs": [],
   "source": [
    "X_val = pd.DataFrame(feature_preproc.transform(df.iloc[~idx_train, :][numerical + categorical]), columns=feature_names)\n",
    "y_val = df.iloc[~idx_train]['log_meter_reading']"
   ]
  },
  {
   "cell_type": "code",
   "execution_count": 22,
   "metadata": {},
   "outputs": [
    {
     "data": {
      "text/plain": [
       "((126143, 18), 1135283)"
      ]
     },
     "execution_count": 22,
     "metadata": {},
     "output_type": "execute_result"
    }
   ],
   "source": [
    "X_val.shape, idx_train.sum()"
   ]
  },
  {
   "cell_type": "code",
   "execution_count": 23,
   "metadata": {},
   "outputs": [],
   "source": [
    "y_pred = model.predict(X_val)"
   ]
  },
  {
   "cell_type": "code",
   "execution_count": 24,
   "metadata": {},
   "outputs": [
    {
     "data": {
      "text/plain": [
       "3.436085755807605"
      ]
     },
     "execution_count": 24,
     "metadata": {},
     "output_type": "execute_result"
    }
   ],
   "source": [
    "from sklearn.metrics import mean_squared_error\n",
    "\n",
    "mean_squared_error(y_val, y_pred)"
   ]
  },
  {
   "cell_type": "markdown",
   "metadata": {},
   "source": [
    "# Test"
   ]
  },
  {
   "cell_type": "code",
   "execution_count": 25,
   "metadata": {},
   "outputs": [],
   "source": [
    "df = test\n",
    "df = df.merge(building_metadata, on='building_id')\n",
    "df = df.merge(weather_test, on=['site_id', 'timestamp'])"
   ]
  },
  {
   "cell_type": "code",
   "execution_count": null,
   "metadata": {},
   "outputs": [],
   "source": [
    "df = df.query('meter == {}'.format(METER))"
   ]
  },
  {
   "cell_type": "code",
   "execution_count": null,
   "metadata": {},
   "outputs": [],
   "source": [
    "X_test = pd.DataFrame(feature_preproc.transform(df[numerical + categorical]), columns=feature_names)"
   ]
  },
  {
   "cell_type": "code",
   "execution_count": 24,
   "metadata": {},
   "outputs": [],
   "source": [
    "y_pred = model.predict(X_test)"
   ]
  },
  {
   "cell_type": "code",
   "execution_count": 25,
   "metadata": {},
   "outputs": [],
   "source": [
    "submit = pd.DataFrame({'id': df['row_id'], 'meter_reading': np.round(np.exp(y_pred) - 1, 4)})"
   ]
  },
  {
   "cell_type": "code",
   "execution_count": 26,
   "metadata": {},
   "outputs": [],
   "source": [
    "submit.to_csv('output/result_meter{}_test.csv'.format(METER), index=False)"
   ]
  },
  {
   "cell_type": "markdown",
   "metadata": {},
   "source": [
    "# Save model"
   ]
  },
  {
   "cell_type": "code",
   "execution_count": 25,
   "metadata": {},
   "outputs": [],
   "source": [
    "import dill as pickle\n",
    "\n",
    "with open('model/model_xgboost_meter{}.p'.format(METER), 'wb') as file:\n",
    "    pickle.dump(model, file)\n",
    "    \n",
    "with open('model/feature_preproc_meter{}.p'.format(METER), 'wb') as file:\n",
    "    pickle.dump(feature_preproc, file)"
   ]
  },
  {
   "cell_type": "code",
   "execution_count": null,
   "metadata": {},
   "outputs": [],
   "source": []
  }
 ],
 "metadata": {
  "kernelspec": {
   "display_name": "Python 3",
   "language": "python",
   "name": "python3"
  },
  "language_info": {
   "codemirror_mode": {
    "name": "ipython",
    "version": 3
   },
   "file_extension": ".py",
   "mimetype": "text/x-python",
   "name": "python",
   "nbconvert_exporter": "python",
   "pygments_lexer": "ipython3",
   "version": "3.7.4"
  },
  "toc": {
   "base_numbering": 1,
   "nav_menu": {},
   "number_sections": true,
   "sideBar": true,
   "skip_h1_title": false,
   "title_cell": "Table of Contents",
   "title_sidebar": "Contents",
   "toc_cell": false,
   "toc_position": {},
   "toc_section_display": true,
   "toc_window_display": false
  }
 },
 "nbformat": 4,
 "nbformat_minor": 2
}
