{
 "cells": [
  {
   "cell_type": "code",
   "execution_count": 1,
   "metadata": {},
   "outputs": [],
   "source": [
    "import pandas as pd\n",
    "import numpy as np\n",
    "import matplotlib.pyplot as plt\n",
    "import seaborn as sns\n",
    "import re\n",
    "\n",
    "import warnings\n",
    "warnings.filterwarnings(\"ignore\")"
   ]
  },
  {
   "cell_type": "code",
   "execution_count": 2,
   "metadata": {},
   "outputs": [],
   "source": [
    "DATA_DIR = 'data/'\n",
    "SUBSAMPLE_FEATURE_PREPROC = 1\n",
    "SUBSAMPLE_TRAIN = 1\n",
    "METER = 3"
   ]
  },
  {
   "cell_type": "code",
   "execution_count": 3,
   "metadata": {},
   "outputs": [
    {
     "name": "stdout",
     "output_type": "stream",
     "text": [
      "building_metadata.csv  test.csv   weather_test.csv\r\n",
      "sample_submission.csv  train.csv  weather_train.csv\r\n"
     ]
    }
   ],
   "source": [
    "!ls {DATA_DIR}"
   ]
  },
  {
   "cell_type": "markdown",
   "metadata": {},
   "source": [
    "# Load data "
   ]
  },
  {
   "cell_type": "code",
   "execution_count": 4,
   "metadata": {},
   "outputs": [],
   "source": [
    "building_metadata = pd.read_csv(DATA_DIR + 'building_metadata.csv')\n",
    "weather_train = pd.read_csv(DATA_DIR + 'weather_train.csv')\n",
    "weather_test = pd.read_csv(DATA_DIR + 'weather_test.csv')\n",
    "train = pd.read_csv(DATA_DIR + 'train.csv')\n",
    "test = pd.read_csv(DATA_DIR + 'test.csv')"
   ]
  },
  {
   "cell_type": "code",
   "execution_count": 5,
   "metadata": {},
   "outputs": [],
   "source": [
    "map_meter2desc = {0: 'electricity', 1: 'chilledwater', 2: 'steam', 3: 'hotwater'}"
   ]
  },
  {
   "cell_type": "code",
   "execution_count": 6,
   "metadata": {},
   "outputs": [],
   "source": [
    "numerical = [\n",
    "    'square_feet', \n",
    "    'year_built', \n",
    "    'floor_count', \n",
    "    'air_temperature', \n",
    "    'cloud_coverage', \n",
    "    'dew_temperature',\n",
    "    'precip_depth_1_hr',\n",
    "    'sea_level_pressure',\n",
    "    'wind_direction',\n",
    "    'wind_speed',\n",
    "]\n",
    "\n",
    "categorical = [\n",
    "    'primary_use',\n",
    "]"
   ]
  },
  {
   "cell_type": "markdown",
   "metadata": {},
   "source": [
    "# Combine table"
   ]
  },
  {
   "cell_type": "code",
   "execution_count": 7,
   "metadata": {},
   "outputs": [],
   "source": [
    "df = train\n",
    "df = df.merge(building_metadata, on='building_id')\n",
    "df = df.merge(weather_train, on=['site_id', 'timestamp'])"
   ]
  },
  {
   "cell_type": "code",
   "execution_count": 8,
   "metadata": {},
   "outputs": [],
   "source": [
    "df['log_meter_reading'] = df['meter_reading'].apply(lambda x: np.log(x + 1))\n",
    "df = df.query('meter_reading > 0')"
   ]
  },
  {
   "cell_type": "code",
   "execution_count": 9,
   "metadata": {},
   "outputs": [],
   "source": [
    "# df0 = df.query('meter == 0')\n",
    "# df1 = df.query('meter == 1')\n",
    "# df2 = df.query('meter == 2')\n",
    "# df3 = df.query('meter == 3')\n",
    "df = df.query('meter == {}'.format(METER))"
   ]
  },
  {
   "cell_type": "markdown",
   "metadata": {},
   "source": [
    "# Feature pre-processing"
   ]
  },
  {
   "cell_type": "code",
   "execution_count": 10,
   "metadata": {},
   "outputs": [
    {
     "data": {
      "text/html": [
       "<div>\n",
       "<style scoped>\n",
       "    .dataframe tbody tr th:only-of-type {\n",
       "        vertical-align: middle;\n",
       "    }\n",
       "\n",
       "    .dataframe tbody tr th {\n",
       "        vertical-align: top;\n",
       "    }\n",
       "\n",
       "    .dataframe thead th {\n",
       "        text-align: right;\n",
       "    }\n",
       "</style>\n",
       "<table border=\"1\" class=\"dataframe\">\n",
       "  <thead>\n",
       "    <tr style=\"text-align: right;\">\n",
       "      <th></th>\n",
       "      <th>building_id</th>\n",
       "      <th>meter</th>\n",
       "      <th>timestamp</th>\n",
       "      <th>meter_reading</th>\n",
       "      <th>site_id</th>\n",
       "      <th>primary_use</th>\n",
       "      <th>square_feet</th>\n",
       "      <th>year_built</th>\n",
       "      <th>floor_count</th>\n",
       "      <th>air_temperature</th>\n",
       "      <th>cloud_coverage</th>\n",
       "      <th>dew_temperature</th>\n",
       "      <th>precip_depth_1_hr</th>\n",
       "      <th>sea_level_pressure</th>\n",
       "      <th>wind_direction</th>\n",
       "      <th>wind_speed</th>\n",
       "      <th>log_meter_reading</th>\n",
       "    </tr>\n",
       "  </thead>\n",
       "  <tbody>\n",
       "    <tr>\n",
       "      <th>1076672</th>\n",
       "      <td>112</td>\n",
       "      <td>3</td>\n",
       "      <td>2016-01-01 00:00:00</td>\n",
       "      <td>96.9780</td>\n",
       "      <td>1</td>\n",
       "      <td>Education</td>\n",
       "      <td>32206</td>\n",
       "      <td>NaN</td>\n",
       "      <td>6.0</td>\n",
       "      <td>3.8</td>\n",
       "      <td>NaN</td>\n",
       "      <td>2.4</td>\n",
       "      <td>NaN</td>\n",
       "      <td>1020.9</td>\n",
       "      <td>240.0</td>\n",
       "      <td>3.1</td>\n",
       "      <td>4.584743</td>\n",
       "    </tr>\n",
       "    <tr>\n",
       "      <th>1076674</th>\n",
       "      <td>113</td>\n",
       "      <td>3</td>\n",
       "      <td>2016-01-01 00:00:00</td>\n",
       "      <td>19.5970</td>\n",
       "      <td>1</td>\n",
       "      <td>Education</td>\n",
       "      <td>100481</td>\n",
       "      <td>1958.0</td>\n",
       "      <td>9.0</td>\n",
       "      <td>3.8</td>\n",
       "      <td>NaN</td>\n",
       "      <td>2.4</td>\n",
       "      <td>NaN</td>\n",
       "      <td>1020.9</td>\n",
       "      <td>240.0</td>\n",
       "      <td>3.1</td>\n",
       "      <td>3.025145</td>\n",
       "    </tr>\n",
       "    <tr>\n",
       "      <th>1076676</th>\n",
       "      <td>114</td>\n",
       "      <td>3</td>\n",
       "      <td>2016-01-01 00:00:00</td>\n",
       "      <td>100.0000</td>\n",
       "      <td>1</td>\n",
       "      <td>Education</td>\n",
       "      <td>139683</td>\n",
       "      <td>1958.0</td>\n",
       "      <td>13.0</td>\n",
       "      <td>3.8</td>\n",
       "      <td>NaN</td>\n",
       "      <td>2.4</td>\n",
       "      <td>NaN</td>\n",
       "      <td>1020.9</td>\n",
       "      <td>240.0</td>\n",
       "      <td>3.1</td>\n",
       "      <td>4.615121</td>\n",
       "    </tr>\n",
       "    <tr>\n",
       "      <th>1076680</th>\n",
       "      <td>117</td>\n",
       "      <td>3</td>\n",
       "      <td>2016-01-01 00:00:00</td>\n",
       "      <td>19.6809</td>\n",
       "      <td>1</td>\n",
       "      <td>Education</td>\n",
       "      <td>15489</td>\n",
       "      <td>2004.0</td>\n",
       "      <td>4.0</td>\n",
       "      <td>3.8</td>\n",
       "      <td>NaN</td>\n",
       "      <td>2.4</td>\n",
       "      <td>NaN</td>\n",
       "      <td>1020.9</td>\n",
       "      <td>240.0</td>\n",
       "      <td>3.1</td>\n",
       "      <td>3.029211</td>\n",
       "    </tr>\n",
       "    <tr>\n",
       "      <th>1076683</th>\n",
       "      <td>119</td>\n",
       "      <td>3</td>\n",
       "      <td>2016-01-01 00:00:00</td>\n",
       "      <td>200.0000</td>\n",
       "      <td>1</td>\n",
       "      <td>Education</td>\n",
       "      <td>91149</td>\n",
       "      <td>2007.0</td>\n",
       "      <td>7.0</td>\n",
       "      <td>3.8</td>\n",
       "      <td>NaN</td>\n",
       "      <td>2.4</td>\n",
       "      <td>NaN</td>\n",
       "      <td>1020.9</td>\n",
       "      <td>240.0</td>\n",
       "      <td>3.1</td>\n",
       "      <td>5.303305</td>\n",
       "    </tr>\n",
       "  </tbody>\n",
       "</table>\n",
       "</div>"
      ],
      "text/plain": [
       "         building_id  meter            timestamp  meter_reading  site_id  \\\n",
       "1076672          112      3  2016-01-01 00:00:00        96.9780        1   \n",
       "1076674          113      3  2016-01-01 00:00:00        19.5970        1   \n",
       "1076676          114      3  2016-01-01 00:00:00       100.0000        1   \n",
       "1076680          117      3  2016-01-01 00:00:00        19.6809        1   \n",
       "1076683          119      3  2016-01-01 00:00:00       200.0000        1   \n",
       "\n",
       "        primary_use  square_feet  year_built  floor_count  air_temperature  \\\n",
       "1076672   Education        32206         NaN          6.0              3.8   \n",
       "1076674   Education       100481      1958.0          9.0              3.8   \n",
       "1076676   Education       139683      1958.0         13.0              3.8   \n",
       "1076680   Education        15489      2004.0          4.0              3.8   \n",
       "1076683   Education        91149      2007.0          7.0              3.8   \n",
       "\n",
       "         cloud_coverage  dew_temperature  precip_depth_1_hr  \\\n",
       "1076672             NaN              2.4                NaN   \n",
       "1076674             NaN              2.4                NaN   \n",
       "1076676             NaN              2.4                NaN   \n",
       "1076680             NaN              2.4                NaN   \n",
       "1076683             NaN              2.4                NaN   \n",
       "\n",
       "         sea_level_pressure  wind_direction  wind_speed  log_meter_reading  \n",
       "1076672              1020.9           240.0         3.1           4.584743  \n",
       "1076674              1020.9           240.0         3.1           3.025145  \n",
       "1076676              1020.9           240.0         3.1           4.615121  \n",
       "1076680              1020.9           240.0         3.1           3.029211  \n",
       "1076683              1020.9           240.0         3.1           5.303305  "
      ]
     },
     "execution_count": 10,
     "metadata": {},
     "output_type": "execute_result"
    }
   ],
   "source": [
    "df.head()"
   ]
  },
  {
   "cell_type": "code",
   "execution_count": 11,
   "metadata": {},
   "outputs": [],
   "source": [
    "from sklearn.pipeline import FeatureUnion, make_pipeline\n",
    "from sklearn.preprocessing import OneHotEncoder, StandardScaler\n",
    "from sklearn.impute import SimpleImputer\n",
    "from sklearn.compose import make_column_transformer\n",
    "\n",
    "feature_preproc = make_pipeline(\n",
    "    FeatureUnion([\n",
    "        ('numeric_features', make_pipeline(\n",
    "            make_column_transformer(('passthrough', numerical)),\n",
    "            SimpleImputer(strategy=\"median\"),\n",
    "            StandardScaler(),\n",
    "        )),\n",
    "        ('categorical_features', make_pipeline(\n",
    "            make_column_transformer(('passthrough', categorical)),\n",
    "            SimpleImputer(strategy=\"most_frequent\"),\n",
    "            OneHotEncoder(sparse=False),\n",
    "        )),\n",
    "     ]),\n",
    ")\n",
    "\n",
    "feature_preproc.fit(df.sample(int(SUBSAMPLE_FEATURE_PREPROC * df.shape[0]))[numerical + categorical]);\n",
    "\n",
    "feature_names = numerical + \\\n",
    "    [ re.sub(r\"^(?:x)([0-9])\", lambda m: categorical[int(m.group(1))], x) \\\n",
    "         for x in feature_preproc.steps[-1][-1].transformer_list[1][-1].steps[-1][-1].get_feature_names().tolist() ]"
   ]
  },
  {
   "cell_type": "code",
   "execution_count": 12,
   "metadata": {},
   "outputs": [],
   "source": [
    "idx_train = np.random.choice(df.shape[0], int(SUBSAMPLE_TRAIN * df.shape[0]), replace=False)\n",
    "\n",
    "idx = np.zeros(df.shape[0]).astype(bool)\n",
    "idx[idx_train] = True\n",
    "idx_train = idx"
   ]
  },
  {
   "cell_type": "code",
   "execution_count": 13,
   "metadata": {},
   "outputs": [],
   "source": [
    "X_train = pd.DataFrame(feature_preproc.transform(df.iloc[idx_train, :][numerical + categorical]), columns=feature_names)\n",
    "y_train = df.iloc[idx_train]['log_meter_reading']"
   ]
  },
  {
   "cell_type": "code",
   "execution_count": 14,
   "metadata": {},
   "outputs": [
    {
     "data": {
      "text/html": [
       "<div>\n",
       "<style scoped>\n",
       "    .dataframe tbody tr th:only-of-type {\n",
       "        vertical-align: middle;\n",
       "    }\n",
       "\n",
       "    .dataframe tbody tr th {\n",
       "        vertical-align: top;\n",
       "    }\n",
       "\n",
       "    .dataframe thead th {\n",
       "        text-align: right;\n",
       "    }\n",
       "</style>\n",
       "<table border=\"1\" class=\"dataframe\">\n",
       "  <thead>\n",
       "    <tr style=\"text-align: right;\">\n",
       "      <th></th>\n",
       "      <th>square_feet</th>\n",
       "      <th>year_built</th>\n",
       "      <th>floor_count</th>\n",
       "      <th>air_temperature</th>\n",
       "      <th>cloud_coverage</th>\n",
       "      <th>dew_temperature</th>\n",
       "      <th>precip_depth_1_hr</th>\n",
       "      <th>sea_level_pressure</th>\n",
       "      <th>wind_direction</th>\n",
       "      <th>wind_speed</th>\n",
       "      <th>primary_use_Education</th>\n",
       "      <th>primary_use_Entertainment/public assembly</th>\n",
       "      <th>primary_use_Food sales and service</th>\n",
       "      <th>primary_use_Healthcare</th>\n",
       "      <th>primary_use_Lodging/residential</th>\n",
       "      <th>primary_use_Office</th>\n",
       "      <th>primary_use_Public services</th>\n",
       "      <th>primary_use_Technology/science</th>\n",
       "    </tr>\n",
       "  </thead>\n",
       "  <tbody>\n",
       "    <tr>\n",
       "      <th>0</th>\n",
       "      <td>-0.830140</td>\n",
       "      <td>-0.078306</td>\n",
       "      <td>1.416542</td>\n",
       "      <td>-1.000361</td>\n",
       "      <td>-0.436642</td>\n",
       "      <td>-0.163756</td>\n",
       "      <td>-0.108077</td>\n",
       "      <td>0.793915</td>\n",
       "      <td>0.551709</td>\n",
       "      <td>-0.011748</td>\n",
       "      <td>1.0</td>\n",
       "      <td>0.0</td>\n",
       "      <td>0.0</td>\n",
       "      <td>0.0</td>\n",
       "      <td>0.0</td>\n",
       "      <td>0.0</td>\n",
       "      <td>0.0</td>\n",
       "      <td>0.0</td>\n",
       "    </tr>\n",
       "    <tr>\n",
       "      <th>1</th>\n",
       "      <td>-0.162935</td>\n",
       "      <td>-0.844679</td>\n",
       "      <td>3.727602</td>\n",
       "      <td>-1.000361</td>\n",
       "      <td>-0.436642</td>\n",
       "      <td>-0.163756</td>\n",
       "      <td>-0.108077</td>\n",
       "      <td>0.793915</td>\n",
       "      <td>0.551709</td>\n",
       "      <td>-0.011748</td>\n",
       "      <td>1.0</td>\n",
       "      <td>0.0</td>\n",
       "      <td>0.0</td>\n",
       "      <td>0.0</td>\n",
       "      <td>0.0</td>\n",
       "      <td>0.0</td>\n",
       "      <td>0.0</td>\n",
       "      <td>0.0</td>\n",
       "    </tr>\n",
       "    <tr>\n",
       "      <th>2</th>\n",
       "      <td>0.220160</td>\n",
       "      <td>-0.844679</td>\n",
       "      <td>6.809014</td>\n",
       "      <td>-1.000361</td>\n",
       "      <td>-0.436642</td>\n",
       "      <td>-0.163756</td>\n",
       "      <td>-0.108077</td>\n",
       "      <td>0.793915</td>\n",
       "      <td>0.551709</td>\n",
       "      <td>-0.011748</td>\n",
       "      <td>1.0</td>\n",
       "      <td>0.0</td>\n",
       "      <td>0.0</td>\n",
       "      <td>0.0</td>\n",
       "      <td>0.0</td>\n",
       "      <td>0.0</td>\n",
       "      <td>0.0</td>\n",
       "      <td>0.0</td>\n",
       "    </tr>\n",
       "    <tr>\n",
       "      <th>3</th>\n",
       "      <td>-0.993504</td>\n",
       "      <td>1.867105</td>\n",
       "      <td>-0.124165</td>\n",
       "      <td>-1.000361</td>\n",
       "      <td>-0.436642</td>\n",
       "      <td>-0.163756</td>\n",
       "      <td>-0.108077</td>\n",
       "      <td>0.793915</td>\n",
       "      <td>0.551709</td>\n",
       "      <td>-0.011748</td>\n",
       "      <td>1.0</td>\n",
       "      <td>0.0</td>\n",
       "      <td>0.0</td>\n",
       "      <td>0.0</td>\n",
       "      <td>0.0</td>\n",
       "      <td>0.0</td>\n",
       "      <td>0.0</td>\n",
       "      <td>0.0</td>\n",
       "    </tr>\n",
       "    <tr>\n",
       "      <th>4</th>\n",
       "      <td>-0.254130</td>\n",
       "      <td>2.043961</td>\n",
       "      <td>2.186895</td>\n",
       "      <td>-1.000361</td>\n",
       "      <td>-0.436642</td>\n",
       "      <td>-0.163756</td>\n",
       "      <td>-0.108077</td>\n",
       "      <td>0.793915</td>\n",
       "      <td>0.551709</td>\n",
       "      <td>-0.011748</td>\n",
       "      <td>1.0</td>\n",
       "      <td>0.0</td>\n",
       "      <td>0.0</td>\n",
       "      <td>0.0</td>\n",
       "      <td>0.0</td>\n",
       "      <td>0.0</td>\n",
       "      <td>0.0</td>\n",
       "      <td>0.0</td>\n",
       "    </tr>\n",
       "  </tbody>\n",
       "</table>\n",
       "</div>"
      ],
      "text/plain": [
       "   square_feet  year_built  floor_count  air_temperature  cloud_coverage  \\\n",
       "0    -0.830140   -0.078306     1.416542        -1.000361       -0.436642   \n",
       "1    -0.162935   -0.844679     3.727602        -1.000361       -0.436642   \n",
       "2     0.220160   -0.844679     6.809014        -1.000361       -0.436642   \n",
       "3    -0.993504    1.867105    -0.124165        -1.000361       -0.436642   \n",
       "4    -0.254130    2.043961     2.186895        -1.000361       -0.436642   \n",
       "\n",
       "   dew_temperature  precip_depth_1_hr  sea_level_pressure  wind_direction  \\\n",
       "0        -0.163756          -0.108077            0.793915        0.551709   \n",
       "1        -0.163756          -0.108077            0.793915        0.551709   \n",
       "2        -0.163756          -0.108077            0.793915        0.551709   \n",
       "3        -0.163756          -0.108077            0.793915        0.551709   \n",
       "4        -0.163756          -0.108077            0.793915        0.551709   \n",
       "\n",
       "   wind_speed  primary_use_Education  \\\n",
       "0   -0.011748                    1.0   \n",
       "1   -0.011748                    1.0   \n",
       "2   -0.011748                    1.0   \n",
       "3   -0.011748                    1.0   \n",
       "4   -0.011748                    1.0   \n",
       "\n",
       "   primary_use_Entertainment/public assembly  \\\n",
       "0                                        0.0   \n",
       "1                                        0.0   \n",
       "2                                        0.0   \n",
       "3                                        0.0   \n",
       "4                                        0.0   \n",
       "\n",
       "   primary_use_Food sales and service  primary_use_Healthcare  \\\n",
       "0                                 0.0                     0.0   \n",
       "1                                 0.0                     0.0   \n",
       "2                                 0.0                     0.0   \n",
       "3                                 0.0                     0.0   \n",
       "4                                 0.0                     0.0   \n",
       "\n",
       "   primary_use_Lodging/residential  primary_use_Office  \\\n",
       "0                              0.0                 0.0   \n",
       "1                              0.0                 0.0   \n",
       "2                              0.0                 0.0   \n",
       "3                              0.0                 0.0   \n",
       "4                              0.0                 0.0   \n",
       "\n",
       "   primary_use_Public services  primary_use_Technology/science  \n",
       "0                          0.0                             0.0  \n",
       "1                          0.0                             0.0  \n",
       "2                          0.0                             0.0  \n",
       "3                          0.0                             0.0  \n",
       "4                          0.0                             0.0  "
      ]
     },
     "execution_count": 14,
     "metadata": {},
     "output_type": "execute_result"
    }
   ],
   "source": [
    "X_train.head()"
   ]
  },
  {
   "cell_type": "markdown",
   "metadata": {},
   "source": [
    "# Train"
   ]
  },
  {
   "cell_type": "code",
   "execution_count": 15,
   "metadata": {},
   "outputs": [],
   "source": [
    "from xgboost import XGBRegressor\n",
    "\n",
    "model = XGBRegressor()"
   ]
  },
  {
   "cell_type": "code",
   "execution_count": 16,
   "metadata": {},
   "outputs": [
    {
     "name": "stdout",
     "output_type": "stream",
     "text": [
      "Fri Nov  1 11:51:43 EDT 2019\r\n"
     ]
    }
   ],
   "source": [
    "!date"
   ]
  },
  {
   "cell_type": "code",
   "execution_count": 17,
   "metadata": {},
   "outputs": [
    {
     "name": "stdout",
     "output_type": "stream",
     "text": [
      "[11:51:43] WARNING: /workspace/src/objective/regression_obj.cu:152: reg:linear is now deprecated in favor of reg:squarederror.\n"
     ]
    },
    {
     "data": {
      "text/plain": [
       "XGBRegressor(base_score=0.5, booster='gbtree', colsample_bylevel=1,\n",
       "             colsample_bynode=1, colsample_bytree=1, gamma=0,\n",
       "             importance_type='gain', learning_rate=0.1, max_delta_step=0,\n",
       "             max_depth=3, min_child_weight=1, missing=None, n_estimators=100,\n",
       "             n_jobs=1, nthread=None, objective='reg:linear', random_state=0,\n",
       "             reg_alpha=0, reg_lambda=1, scale_pos_weight=1, seed=None,\n",
       "             silent=None, subsample=1, verbosity=1)"
      ]
     },
     "execution_count": 17,
     "metadata": {},
     "output_type": "execute_result"
    }
   ],
   "source": [
    "model.fit(X_train, y_train)"
   ]
  },
  {
   "cell_type": "code",
   "execution_count": 18,
   "metadata": {},
   "outputs": [
    {
     "name": "stdout",
     "output_type": "stream",
     "text": [
      "Fri Nov  1 11:52:33 EDT 2019\r\n"
     ]
    }
   ],
   "source": [
    "!date"
   ]
  },
  {
   "cell_type": "code",
   "execution_count": 19,
   "metadata": {},
   "outputs": [],
   "source": [
    "y_pred = model.predict(X_train)"
   ]
  },
  {
   "cell_type": "code",
   "execution_count": 20,
   "metadata": {},
   "outputs": [
    {
     "data": {
      "text/plain": [
       "1.468803014992061"
      ]
     },
     "execution_count": 20,
     "metadata": {},
     "output_type": "execute_result"
    }
   ],
   "source": [
    "from sklearn.metrics import mean_squared_error\n",
    "\n",
    "mean_squared_error(y_train, y_pred)"
   ]
  },
  {
   "cell_type": "markdown",
   "metadata": {},
   "source": [
    "# Validate"
   ]
  },
  {
   "cell_type": "code",
   "execution_count": null,
   "metadata": {},
   "outputs": [],
   "source": [
    "X_val = pd.DataFrame(feature_preproc.transform(df.iloc[~idx_train, :][numerical + categorical]), columns=feature_names)\n",
    "y_val = df.iloc[~idx_train]['log_meter_reading']"
   ]
  },
  {
   "cell_type": "code",
   "execution_count": 30,
   "metadata": {},
   "outputs": [
    {
     "data": {
      "text/plain": [
       "((11488187, 26), 65989214529391)"
      ]
     },
     "execution_count": 30,
     "metadata": {},
     "output_type": "execute_result"
    }
   ],
   "source": [
    "X_val.shape, idx_train.sum()"
   ]
  },
  {
   "cell_type": "code",
   "execution_count": 20,
   "metadata": {},
   "outputs": [],
   "source": [
    "y_pred = model.predict(X_val)"
   ]
  },
  {
   "cell_type": "code",
   "execution_count": 21,
   "metadata": {},
   "outputs": [
    {
     "data": {
      "text/plain": [
       "0.6671377185584041"
      ]
     },
     "execution_count": 21,
     "metadata": {},
     "output_type": "execute_result"
    }
   ],
   "source": [
    "from sklearn.metrics import mean_squared_error\n",
    "\n",
    "mean_squared_error(y_val, y_pred)"
   ]
  },
  {
   "cell_type": "markdown",
   "metadata": {},
   "source": [
    "# Test"
   ]
  },
  {
   "cell_type": "code",
   "execution_count": 21,
   "metadata": {},
   "outputs": [],
   "source": [
    "df = test\n",
    "df = df.merge(building_metadata, on='building_id')\n",
    "df = df.merge(weather_test, on=['site_id', 'timestamp'])"
   ]
  },
  {
   "cell_type": "code",
   "execution_count": 22,
   "metadata": {},
   "outputs": [],
   "source": [
    "df = df.query('meter == {}'.format(METER))"
   ]
  },
  {
   "cell_type": "code",
   "execution_count": 23,
   "metadata": {},
   "outputs": [],
   "source": [
    "X_test = pd.DataFrame(feature_preproc.transform(df[numerical + categorical]), columns=feature_names)"
   ]
  },
  {
   "cell_type": "code",
   "execution_count": 24,
   "metadata": {},
   "outputs": [],
   "source": [
    "y_pred = model.predict(X_test)"
   ]
  },
  {
   "cell_type": "code",
   "execution_count": 25,
   "metadata": {},
   "outputs": [],
   "source": [
    "submit = pd.DataFrame({'id': df['row_id'], 'meter_reading': np.round(np.exp(y_pred) - 1, 4)})"
   ]
  },
  {
   "cell_type": "code",
   "execution_count": 26,
   "metadata": {},
   "outputs": [],
   "source": [
    "submit.to_csv('output/result_meter{}_test.csv'.format(METER), index=False)"
   ]
  },
  {
   "cell_type": "markdown",
   "metadata": {},
   "source": [
    "# Save model"
   ]
  },
  {
   "cell_type": "code",
   "execution_count": 27,
   "metadata": {},
   "outputs": [],
   "source": [
    "import dill as pickle\n",
    "\n",
    "with open('model/model_xgboost_meter{}.p'.format(METER), 'wb') as file:\n",
    "    pickle.dump(model, file)\n",
    "    \n",
    "with open('model/feature_preproc_meter{}.p'.format(METER), 'wb') as file:\n",
    "    pickle.dump(feature_preproc, file)"
   ]
  },
  {
   "cell_type": "code",
   "execution_count": null,
   "metadata": {},
   "outputs": [],
   "source": []
  }
 ],
 "metadata": {
  "kernelspec": {
   "display_name": "Python 3",
   "language": "python",
   "name": "python3"
  },
  "language_info": {
   "codemirror_mode": {
    "name": "ipython",
    "version": 3
   },
   "file_extension": ".py",
   "mimetype": "text/x-python",
   "name": "python",
   "nbconvert_exporter": "python",
   "pygments_lexer": "ipython3",
   "version": "3.7.4"
  },
  "toc": {
   "base_numbering": 1,
   "nav_menu": {},
   "number_sections": true,
   "sideBar": true,
   "skip_h1_title": false,
   "title_cell": "Table of Contents",
   "title_sidebar": "Contents",
   "toc_cell": false,
   "toc_position": {},
   "toc_section_display": true,
   "toc_window_display": false
  }
 },
 "nbformat": 4,
 "nbformat_minor": 2
}
